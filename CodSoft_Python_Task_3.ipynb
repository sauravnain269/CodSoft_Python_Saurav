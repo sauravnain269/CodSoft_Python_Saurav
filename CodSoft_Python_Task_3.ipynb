{
  "nbformat": 4,
  "nbformat_minor": 0,
  "metadata": {
    "colab": {
      "provenance": []
    },
    "kernelspec": {
      "name": "python3",
      "display_name": "Python 3"
    },
    "language_info": {
      "name": "python"
    }
  },
  "cells": [
    {
      "cell_type": "code",
      "execution_count": 4,
      "metadata": {
        "colab": {
          "base_uri": "https://localhost:8080/"
        },
        "id": "e7cGtktJQMG_",
        "outputId": "19951b2b-d569-44bb-ca67-eee725b4cb51"
      },
      "outputs": [
        {
          "output_type": "stream",
          "name": "stdout",
          "text": [
            "Enter the desired length of the password: 16\n",
            "\n",
            "Generated Password: }5f#r)B5I<cNp{XW\n"
          ]
        }
      ],
      "source": [
        "import random\n",
        "import string\n",
        "\n",
        "def generate_password(length):\n",
        "    characters = string.ascii_letters + string.digits + string.punctuation\n",
        "    password = ''.join(random.choice(characters) for _ in range(length))\n",
        "    return password\n",
        "\n",
        "def main():\n",
        "    try:\n",
        "        password_length = int(input(\"Enter the desired length of the password: \"))\n",
        "        if password_length <= 0:\n",
        "            print(\"Password length must be a positive integer.\")\n",
        "            return\n",
        "\n",
        "        password = generate_password(password_length)\n",
        "        print(f\"\\nGenerated Password: {password}\")\n",
        "\n",
        "    except ValueError:\n",
        "        print(\"Invalid input. Please enter a valid integer for the password length.\")\n",
        "\n",
        "if __name__ == \"__main__\":\n",
        "    main()\n"
      ]
    },
    {
      "cell_type": "code",
      "source": [],
      "metadata": {
        "id": "t6T7a6aWQlR0"
      },
      "execution_count": 3,
      "outputs": []
    }
  ]
}