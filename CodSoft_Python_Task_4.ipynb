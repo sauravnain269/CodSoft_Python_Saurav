{
  "nbformat": 4,
  "nbformat_minor": 0,
  "metadata": {
    "colab": {
      "provenance": []
    },
    "kernelspec": {
      "name": "python3",
      "display_name": "Python 3"
    },
    "language_info": {
      "name": "python"
    }
  },
  "cells": [
    {
      "cell_type": "code",
      "execution_count": 5,
      "metadata": {
        "colab": {
          "base_uri": "https://localhost:8080/"
        },
        "id": "e7cGtktJQMG_",
        "outputId": "c7dc0981-f498-4424-8edb-b4f7f44b8b58"
      },
      "outputs": [
        {
          "output_type": "stream",
          "name": "stdout",
          "text": [
            "Choose rock, paper, or scissors: rock\n",
            "\n",
            "Your choice: rock\n",
            "Computer's choice: paper\n",
            "You lose!\n",
            "\n",
            "Score - You: 0, Computer: 1\n",
            "Do you want to play again? (yes/no): Yes\n",
            "Choose rock, paper, or scissors: paper\n",
            "\n",
            "Your choice: paper\n",
            "Computer's choice: scissors\n",
            "You lose!\n",
            "\n",
            "Score - You: 0, Computer: 2\n",
            "Do you want to play again? (yes/no): Yes\n",
            "Choose rock, paper, or scissors: rock\n",
            "\n",
            "Your choice: rock\n",
            "Computer's choice: paper\n",
            "You lose!\n",
            "\n",
            "Score - You: 0, Computer: 3\n",
            "Do you want to play again? (yes/no): yes\n",
            "Choose rock, paper, or scissors: paper\n",
            "\n",
            "Your choice: paper\n",
            "Computer's choice: paper\n",
            "It's a tie!\n",
            "\n",
            "Score - You: 0, Computer: 3\n",
            "Do you want to play again? (yes/no): yes\n",
            "Choose rock, paper, or scissors: scissors\n",
            "\n",
            "Your choice: scissors\n",
            "Computer's choice: rock\n",
            "You lose!\n",
            "\n",
            "Score - You: 0, Computer: 4\n",
            "Do you want to play again? (yes/no): yes\n",
            "Choose rock, paper, or scissors: rock\n",
            "\n",
            "Your choice: rock\n",
            "Computer's choice: scissors\n",
            "You win!\n",
            "\n",
            "Score - You: 1, Computer: 4\n",
            "Do you want to play again? (yes/no): yes\n",
            "Choose rock, paper, or scissors: paper\n",
            "\n",
            "Your choice: paper\n",
            "Computer's choice: paper\n",
            "It's a tie!\n",
            "\n",
            "Score - You: 1, Computer: 4\n",
            "Do you want to play again? (yes/no): scissors\n",
            "Thanks for playing. Goodbye!\n"
          ]
        }
      ],
      "source": [
        "import random\n",
        "\n",
        "def determine_winner(user_choice, computer_choice):\n",
        "    if user_choice == computer_choice:\n",
        "        return \"It's a tie!\"\n",
        "    elif (\n",
        "        (user_choice == \"rock\" and computer_choice == \"scissors\") or\n",
        "        (user_choice == \"scissors\" and computer_choice == \"paper\") or\n",
        "        (user_choice == \"paper\" and computer_choice == \"rock\")\n",
        "    ):\n",
        "        return \"You win!\"\n",
        "    else:\n",
        "        return \"You lose!\"\n",
        "\n",
        "def play_round():\n",
        "    user_choice = input(\"Choose rock, paper, or scissors: \").lower()\n",
        "    if user_choice not in [\"rock\", \"paper\", \"scissors\"]:\n",
        "        print(\"Invalid choice. Please choose rock, paper, or scissors.\")\n",
        "        return\n",
        "\n",
        "    computer_choice = random.choice([\"rock\", \"paper\", \"scissors\"])\n",
        "\n",
        "    print(f\"\\nYour choice: {user_choice}\")\n",
        "    print(f\"Computer's choice: {computer_choice}\")\n",
        "\n",
        "    result = determine_winner(user_choice, computer_choice)\n",
        "    print(result)\n",
        "\n",
        "    return result\n",
        "\n",
        "def main():\n",
        "    user_score = 0\n",
        "    computer_score = 0\n",
        "\n",
        "    while True:\n",
        "        result = play_round()\n",
        "\n",
        "        if result == \"You win!\":\n",
        "            user_score += 1\n",
        "        elif result == \"You lose!\":\n",
        "            computer_score += 1\n",
        "\n",
        "        print(f\"\\nScore - You: {user_score}, Computer: {computer_score}\")\n",
        "\n",
        "        play_again = input(\"Do you want to play again? (yes/no): \").lower()\n",
        "        if play_again != \"yes\":\n",
        "            print(\"Thanks for playing. Goodbye!\")\n",
        "            break\n",
        "\n",
        "if __name__ == \"__main__\":\n",
        "    main()\n"
      ]
    },
    {
      "cell_type": "code",
      "source": [],
      "metadata": {
        "id": "t6T7a6aWQlR0"
      },
      "execution_count": 3,
      "outputs": []
    }
  ]
}