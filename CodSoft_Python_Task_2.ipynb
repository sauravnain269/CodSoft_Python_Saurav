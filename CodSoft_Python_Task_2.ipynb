{
  "nbformat": 4,
  "nbformat_minor": 0,
  "metadata": {
    "colab": {
      "provenance": []
    },
    "kernelspec": {
      "name": "python3",
      "display_name": "Python 3"
    },
    "language_info": {
      "name": "python"
    }
  },
  "cells": [
    {
      "cell_type": "code",
      "execution_count": 1,
      "metadata": {
        "colab": {
          "base_uri": "https://localhost:8080/"
        },
        "id": "e7cGtktJQMG_",
        "outputId": "ff005feb-3931-44ef-f092-a389a6e9680d"
      },
      "outputs": [
        {
          "output_type": "stream",
          "name": "stdout",
          "text": [
            "Simple Calculator\n",
            "Operations:\n",
            "1. Addition\n",
            "2. Subtraction\n",
            "3. Multiplication\n",
            "4. Division\n",
            "Enter first number: 56\n",
            "Enter second number: 34\n",
            "Choose operation (1-4): 3\n",
            "Result: 1904.0\n"
          ]
        }
      ],
      "source": [
        "def add(x, y):\n",
        "    return x + y\n",
        "\n",
        "def subtract(x, y):\n",
        "    return x - y\n",
        "\n",
        "def multiply(x, y):\n",
        "    return x * y\n",
        "\n",
        "def divide(x, y):\n",
        "    if y != 0:\n",
        "        return x / y\n",
        "    else:\n",
        "        return \"Error: Cannot divide by zero.\"\n",
        "\n",
        "def calculator():\n",
        "    print(\"Simple Calculator\")\n",
        "    print(\"Operations:\")\n",
        "    print(\"1. Addition\")\n",
        "    print(\"2. Subtraction\")\n",
        "    print(\"3. Multiplication\")\n",
        "    print(\"4. Division\")\n",
        "\n",
        "    try:\n",
        "        num1 = float(input(\"Enter first number: \"))\n",
        "        num2 = float(input(\"Enter second number: \"))\n",
        "        operation = int(input(\"Choose operation (1-4): \"))\n",
        "\n",
        "        if operation == 1:\n",
        "            result = add(num1, num2)\n",
        "        elif operation == 2:\n",
        "            result = subtract(num1, num2)\n",
        "        elif operation == 3:\n",
        "            result = multiply(num1, num2)\n",
        "        elif operation == 4:\n",
        "            result = divide(num1, num2)\n",
        "        else:\n",
        "            print(\"Invalid operation choice. Please choose a number between 1 and 4.\")\n",
        "            return\n",
        "\n",
        "        print(\"Result:\", result)\n",
        "\n",
        "    except ValueError:\n",
        "        print(\"Error: Please enter valid numbers.\")\n",
        "    except Exception as e:\n",
        "        print(f\"An error occurred: {str(e)}\")\n",
        "\n",
        "if __name__ == \"__main__\":\n",
        "    calculator()\n"
      ]
    },
    {
      "cell_type": "code",
      "source": [],
      "metadata": {
        "id": "t6T7a6aWQlR0"
      },
      "execution_count": null,
      "outputs": []
    }
  ]
}